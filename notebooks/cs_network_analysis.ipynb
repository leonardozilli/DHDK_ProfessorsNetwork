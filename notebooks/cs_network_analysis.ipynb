{
 "cells": [
  {
   "cell_type": "code",
   "execution_count": 49,
   "metadata": {},
   "outputs": [],
   "source": [
    "import json\n",
    "import pandas as pd\n",
    "import numpy as np\n",
    "import networkx as nx\n",
    "from pprint import pprint\n",
    "import matplotlib.pyplot as plt\n",
    "import seaborn as sns\n",
    "from math import log\n",
    "import statistics as st\n",
    "from joblib import Parallel, delayed\n",
    "import os\n",
    " \n",
    "threads = os.cpu_count()"
   ]
  },
  {
   "cell_type": "code",
   "execution_count": 50,
   "metadata": {},
   "outputs": [],
   "source": [
    "target = \"cs\"\n",
    "G = nx.read_gml(\"../data/{0}/{0}_coauthorship_network.gml\".format(target))\n",
    "node_attributes = nx.get_node_attributes(G, \"affiliation\")"
   ]
  },
  {
   "cell_type": "markdown",
   "metadata": {},
   "source": [
    "---"
   ]
  },
  {
   "cell_type": "markdown",
   "metadata": {},
   "source": [
    "# Centrality measures"
   ]
  },
  {
   "cell_type": "markdown",
   "metadata": {},
   "source": [
    "### Degree Centrality"
   ]
  },
  {
   "cell_type": "markdown",
   "metadata": {},
   "source": [
    "Degree centrality measures the importance of a node in a network based on the number of connections it has.\n",
    "\n",
    "Interpretation:\n",
    "The table shows the top 10 nodes with the highest degree centrality in the network.\n",
    "\n",
    "Implications:\n",
    "Nodes with higher degree centrality are more connected within the network.\n",
    "These individuals play a crucial role in maintaining connections across different parts of the network.\n",
    "\n",
    "Considerations:\n",
    "The interpretation of degree centrality should be analyzed in conjunction with the specific goals and characteristics of the network."
   ]
  },
  {
   "cell_type": "code",
   "execution_count": 51,
   "metadata": {},
   "outputs": [
    {
     "data": {
      "text/html": [
       "<div>\n",
       "<style scoped>\n",
       "    .dataframe tbody tr th:only-of-type {\n",
       "        vertical-align: middle;\n",
       "    }\n",
       "\n",
       "    .dataframe tbody tr th {\n",
       "        vertical-align: top;\n",
       "    }\n",
       "\n",
       "    .dataframe thead th {\n",
       "        text-align: right;\n",
       "    }\n",
       "</style>\n",
       "<table border=\"1\" class=\"dataframe\">\n",
       "  <thead>\n",
       "    <tr style=\"text-align: right;\">\n",
       "      <th></th>\n",
       "      <th>Name</th>\n",
       "      <th>Affiliation</th>\n",
       "      <th>DegreeCentrality</th>\n",
       "    </tr>\n",
       "  </thead>\n",
       "  <tbody>\n",
       "    <tr>\n",
       "      <th>0</th>\n",
       "      <td>BONONI, LUCIANO</td>\n",
       "      <td>DIPARTIMENTO DI INFORMATICA - SCIENZA E INGEGN...</td>\n",
       "      <td>0.142276</td>\n",
       "    </tr>\n",
       "    <tr>\n",
       "      <th>1</th>\n",
       "      <td>SALMON CINOTTI, TULLIO</td>\n",
       "      <td>CENTRO RICERCA SISTEMI ELETTRONICI INGEGN.INF....</td>\n",
       "      <td>0.119919</td>\n",
       "    </tr>\n",
       "    <tr>\n",
       "      <th>2</th>\n",
       "      <td>MARFIA, GUSTAVO</td>\n",
       "      <td>DIPARTIMENTO DELLE ARTI</td>\n",
       "      <td>0.119919</td>\n",
       "    </tr>\n",
       "    <tr>\n",
       "      <th>3</th>\n",
       "      <td>VITALI, FABIO</td>\n",
       "      <td>DIPARTIMENTO DI INFORMATICA - SCIENZA E INGEGN...</td>\n",
       "      <td>0.111789</td>\n",
       "    </tr>\n",
       "    <tr>\n",
       "      <th>4</th>\n",
       "      <td>DI FELICE, MARCO</td>\n",
       "      <td>DIPARTIMENTO DI INFORMATICA - SCIENZA E INGEGN...</td>\n",
       "      <td>0.109756</td>\n",
       "    </tr>\n",
       "    <tr>\n",
       "      <th>5</th>\n",
       "      <td>BARTOLINI, ILARIA</td>\n",
       "      <td>DIPARTIMENTO DI INFORMATICA - SCIENZA E INGEGN...</td>\n",
       "      <td>0.099593</td>\n",
       "    </tr>\n",
       "    <tr>\n",
       "      <th>6</th>\n",
       "      <td>BAZZANI, ARMANDO</td>\n",
       "      <td>DIPARTIMENTO DI FISICA E ASTRONOMIA \"AUGUSTO R...</td>\n",
       "      <td>0.089431</td>\n",
       "    </tr>\n",
       "    <tr>\n",
       "      <th>7</th>\n",
       "      <td>BELLAVISTA, PAOLO</td>\n",
       "      <td>DIPARTIMENTO DI INFORMATICA - SCIENZA E INGEGN...</td>\n",
       "      <td>0.089431</td>\n",
       "    </tr>\n",
       "    <tr>\n",
       "      <th>8</th>\n",
       "      <td>TORRONI, PAOLO</td>\n",
       "      <td>DIPARTIMENTO DI INFORMATICA - SCIENZA E INGEGN...</td>\n",
       "      <td>0.081301</td>\n",
       "    </tr>\n",
       "    <tr>\n",
       "      <th>9</th>\n",
       "      <td>ROCCETTI, MARCO</td>\n",
       "      <td>DIPARTIMENTO DI INFORMATICA - SCIENZA E INGEGN...</td>\n",
       "      <td>0.079268</td>\n",
       "    </tr>\n",
       "  </tbody>\n",
       "</table>\n",
       "</div>"
      ],
      "text/plain": [
       "                     Name                                        Affiliation  \\\n",
       "0         BONONI, LUCIANO  DIPARTIMENTO DI INFORMATICA - SCIENZA E INGEGN...   \n",
       "1  SALMON CINOTTI, TULLIO  CENTRO RICERCA SISTEMI ELETTRONICI INGEGN.INF....   \n",
       "2         MARFIA, GUSTAVO                            DIPARTIMENTO DELLE ARTI   \n",
       "3           VITALI, FABIO  DIPARTIMENTO DI INFORMATICA - SCIENZA E INGEGN...   \n",
       "4        DI FELICE, MARCO  DIPARTIMENTO DI INFORMATICA - SCIENZA E INGEGN...   \n",
       "5       BARTOLINI, ILARIA  DIPARTIMENTO DI INFORMATICA - SCIENZA E INGEGN...   \n",
       "6        BAZZANI, ARMANDO  DIPARTIMENTO DI FISICA E ASTRONOMIA \"AUGUSTO R...   \n",
       "7       BELLAVISTA, PAOLO  DIPARTIMENTO DI INFORMATICA - SCIENZA E INGEGN...   \n",
       "8          TORRONI, PAOLO  DIPARTIMENTO DI INFORMATICA - SCIENZA E INGEGN...   \n",
       "9         ROCCETTI, MARCO  DIPARTIMENTO DI INFORMATICA - SCIENZA E INGEGN...   \n",
       "\n",
       "   DegreeCentrality  \n",
       "0          0.142276  \n",
       "1          0.119919  \n",
       "2          0.119919  \n",
       "3          0.111789  \n",
       "4          0.109756  \n",
       "5          0.099593  \n",
       "6          0.089431  \n",
       "7          0.089431  \n",
       "8          0.081301  \n",
       "9          0.079268  "
      ]
     },
     "execution_count": 51,
     "metadata": {},
     "output_type": "execute_result"
    }
   ],
   "source": [
    "degree_centrality = nx.degree_centrality(G)\n",
    "dc_data = pd.DataFrame({\"Name\": list(degree_centrality.keys()),\n",
    "                        \"Affiliation\": [node_attributes[node] for node in degree_centrality.keys()],\n",
    "                        \"DegreeCentrality\": list(degree_centrality.values())\n",
    "                        }).sort_values(by=\"DegreeCentrality\", ascending=False).reset_index(drop=True)\n",
    "\n",
    "dc_data.head(10)"
   ]
  },
  {
   "cell_type": "markdown",
   "metadata": {},
   "source": [
    "### Betweenness Centrality"
   ]
  },
  {
   "cell_type": "markdown",
   "metadata": {},
   "source": [
    "Weighted betweenness centrality measures the influence of a node in facilitating communication between other nodes, considering the weights of edges.\n",
    "\n",
    "Interpretation:\n",
    "The table shows the top 10 nodes with the highest weighted betweenness centrality in the network.\n",
    "\n",
    "Implications:\n",
    "Nodes with higher weighted betweenness centrality act as bridges, connecting different parts of the network.\n",
    "These individuals play a crucial role in maintaining efficient communication paths considering edge weights."
   ]
  },
  {
   "cell_type": "code",
   "execution_count": 52,
   "metadata": {},
   "outputs": [
    {
     "data": {
      "text/html": [
       "<div>\n",
       "<style scoped>\n",
       "    .dataframe tbody tr th:only-of-type {\n",
       "        vertical-align: middle;\n",
       "    }\n",
       "\n",
       "    .dataframe tbody tr th {\n",
       "        vertical-align: top;\n",
       "    }\n",
       "\n",
       "    .dataframe thead th {\n",
       "        text-align: right;\n",
       "    }\n",
       "</style>\n",
       "<table border=\"1\" class=\"dataframe\">\n",
       "  <thead>\n",
       "    <tr style=\"text-align: right;\">\n",
       "      <th></th>\n",
       "      <th>Name</th>\n",
       "      <th>Affiliation</th>\n",
       "      <th>WeightedBetweennessCentrality</th>\n",
       "    </tr>\n",
       "  </thead>\n",
       "  <tbody>\n",
       "    <tr>\n",
       "      <th>0</th>\n",
       "      <td>TOMASI, FRANCESCA</td>\n",
       "      <td>DIPARTIMENTO DI FILOLOGIA CLASSICA E ITALIANIS...</td>\n",
       "      <td>0.163943</td>\n",
       "    </tr>\n",
       "    <tr>\n",
       "      <th>1</th>\n",
       "      <td>LOLI PICCOLOMINI, ELENA</td>\n",
       "      <td>DIPARTIMENTO DI INFORMATICA - SCIENZA E INGEGN...</td>\n",
       "      <td>0.157832</td>\n",
       "    </tr>\n",
       "    <tr>\n",
       "      <th>2</th>\n",
       "      <td>MARFIA, GUSTAVO</td>\n",
       "      <td>DIPARTIMENTO DELLE ARTI</td>\n",
       "      <td>0.154433</td>\n",
       "    </tr>\n",
       "    <tr>\n",
       "      <th>3</th>\n",
       "      <td>BARTOLINI, ILARIA</td>\n",
       "      <td>DIPARTIMENTO DI INFORMATICA - SCIENZA E INGEGN...</td>\n",
       "      <td>0.140926</td>\n",
       "    </tr>\n",
       "    <tr>\n",
       "      <th>4</th>\n",
       "      <td>ASPERTI, ANDREA</td>\n",
       "      <td>DIPARTIMENTO DI INFORMATICA - SCIENZA E INGEGN...</td>\n",
       "      <td>0.139090</td>\n",
       "    </tr>\n",
       "    <tr>\n",
       "      <th>5</th>\n",
       "      <td>VITALI, FABIO</td>\n",
       "      <td>DIPARTIMENTO DI INFORMATICA - SCIENZA E INGEGN...</td>\n",
       "      <td>0.133884</td>\n",
       "    </tr>\n",
       "    <tr>\n",
       "      <th>6</th>\n",
       "      <td>DEGLI ESPOSTI, MIRKO</td>\n",
       "      <td>DIPARTIMENTO DI FISICA E ASTRONOMIA \"AUGUSTO R...</td>\n",
       "      <td>0.133572</td>\n",
       "    </tr>\n",
       "    <tr>\n",
       "      <th>7</th>\n",
       "      <td>BAZZANI, ARMANDO</td>\n",
       "      <td>DIPARTIMENTO DI FISICA E ASTRONOMIA \"AUGUSTO R...</td>\n",
       "      <td>0.125704</td>\n",
       "    </tr>\n",
       "    <tr>\n",
       "      <th>8</th>\n",
       "      <td>MARTINI, SIMONE</td>\n",
       "      <td>DIPARTIMENTO DI INFORMATICA - SCIENZA E INGEGN...</td>\n",
       "      <td>0.111018</td>\n",
       "    </tr>\n",
       "    <tr>\n",
       "      <th>9</th>\n",
       "      <td>ROCCETTI, MARCO</td>\n",
       "      <td>DIPARTIMENTO DI INFORMATICA - SCIENZA E INGEGN...</td>\n",
       "      <td>0.095308</td>\n",
       "    </tr>\n",
       "  </tbody>\n",
       "</table>\n",
       "</div>"
      ],
      "text/plain": [
       "                      Name                                        Affiliation  \\\n",
       "0        TOMASI, FRANCESCA  DIPARTIMENTO DI FILOLOGIA CLASSICA E ITALIANIS...   \n",
       "1  LOLI PICCOLOMINI, ELENA  DIPARTIMENTO DI INFORMATICA - SCIENZA E INGEGN...   \n",
       "2          MARFIA, GUSTAVO                            DIPARTIMENTO DELLE ARTI   \n",
       "3        BARTOLINI, ILARIA  DIPARTIMENTO DI INFORMATICA - SCIENZA E INGEGN...   \n",
       "4          ASPERTI, ANDREA  DIPARTIMENTO DI INFORMATICA - SCIENZA E INGEGN...   \n",
       "5            VITALI, FABIO  DIPARTIMENTO DI INFORMATICA - SCIENZA E INGEGN...   \n",
       "6     DEGLI ESPOSTI, MIRKO  DIPARTIMENTO DI FISICA E ASTRONOMIA \"AUGUSTO R...   \n",
       "7         BAZZANI, ARMANDO  DIPARTIMENTO DI FISICA E ASTRONOMIA \"AUGUSTO R...   \n",
       "8          MARTINI, SIMONE  DIPARTIMENTO DI INFORMATICA - SCIENZA E INGEGN...   \n",
       "9          ROCCETTI, MARCO  DIPARTIMENTO DI INFORMATICA - SCIENZA E INGEGN...   \n",
       "\n",
       "   WeightedBetweennessCentrality  \n",
       "0                       0.163943  \n",
       "1                       0.157832  \n",
       "2                       0.154433  \n",
       "3                       0.140926  \n",
       "4                       0.139090  \n",
       "5                       0.133884  \n",
       "6                       0.133572  \n",
       "7                       0.125704  \n",
       "8                       0.111018  \n",
       "9                       0.095308  "
      ]
     },
     "execution_count": 52,
     "metadata": {},
     "output_type": "execute_result"
    }
   ],
   "source": [
    "weighted_betweenness_centrality = nx.betweenness_centrality(G, weight=\"weight\")\n",
    "\n",
    "wbc_data = pd.DataFrame({\"Name\": list(weighted_betweenness_centrality.keys()),\n",
    "                        \"Affiliation\": [node_attributes[node] for node in weighted_betweenness_centrality.keys()],\n",
    "                        \"WeightedBetweennessCentrality\": list(weighted_betweenness_centrality.values())\n",
    "                        }).sort_values(by=\"WeightedBetweennessCentrality\", ascending=False).reset_index(drop=True)\n",
    "\n",
    "wbc_data.head(10)"
   ]
  },
  {
   "cell_type": "markdown",
   "metadata": {},
   "source": [
    "### Closeness Centrality"
   ]
  },
  {
   "cell_type": "markdown",
   "metadata": {},
   "source": [
    "Weighted closeness centrality measures how easily a node can reach other nodes in the network, considering the weights of the edges.\n",
    "\n",
    "Interpretation:\n",
    "The table displays the top 10 nodes with the highest weighted closeness centrality in the network.\n",
    "\n",
    "Implications:\n",
    "Nodes with higher weighted closeness centrality are well-connected and can efficiently reach other nodes in the network, considering edge weights.\n",
    "These individuals play a crucial role in information flow and communication."
   ]
  },
  {
   "cell_type": "code",
   "execution_count": 53,
   "metadata": {},
   "outputs": [
    {
     "data": {
      "text/html": [
       "<div>\n",
       "<style scoped>\n",
       "    .dataframe tbody tr th:only-of-type {\n",
       "        vertical-align: middle;\n",
       "    }\n",
       "\n",
       "    .dataframe tbody tr th {\n",
       "        vertical-align: top;\n",
       "    }\n",
       "\n",
       "    .dataframe thead th {\n",
       "        text-align: right;\n",
       "    }\n",
       "</style>\n",
       "<table border=\"1\" class=\"dataframe\">\n",
       "  <thead>\n",
       "    <tr style=\"text-align: right;\">\n",
       "      <th></th>\n",
       "      <th>Name</th>\n",
       "      <th>Affiliation</th>\n",
       "      <th>WeightedClosenessCentrality</th>\n",
       "    </tr>\n",
       "  </thead>\n",
       "  <tbody>\n",
       "    <tr>\n",
       "      <th>0</th>\n",
       "      <td>CONDELLO, FEDERICO</td>\n",
       "      <td>DIPARTIMENTO DI FILOLOGIA CLASSICA E ITALIANIS...</td>\n",
       "      <td>0.223332</td>\n",
       "    </tr>\n",
       "    <tr>\n",
       "      <th>1</th>\n",
       "      <td>MARTINI, SIMONE</td>\n",
       "      <td>DIPARTIMENTO DI INFORMATICA - SCIENZA E INGEGN...</td>\n",
       "      <td>0.222826</td>\n",
       "    </tr>\n",
       "    <tr>\n",
       "      <th>2</th>\n",
       "      <td>TOMASI, FRANCESCA</td>\n",
       "      <td>DIPARTIMENTO DI FILOLOGIA CLASSICA E ITALIANIS...</td>\n",
       "      <td>0.221622</td>\n",
       "    </tr>\n",
       "    <tr>\n",
       "      <th>3</th>\n",
       "      <td>ROCCETTI, MARCO</td>\n",
       "      <td>DIPARTIMENTO DI INFORMATICA - SCIENZA E INGEGN...</td>\n",
       "      <td>0.220529</td>\n",
       "    </tr>\n",
       "    <tr>\n",
       "      <th>4</th>\n",
       "      <td>BARTOLINI, ILARIA</td>\n",
       "      <td>DIPARTIMENTO DI INFORMATICA - SCIENZA E INGEGN...</td>\n",
       "      <td>0.218764</td>\n",
       "    </tr>\n",
       "    <tr>\n",
       "      <th>5</th>\n",
       "      <td>MARFIA, GUSTAVO</td>\n",
       "      <td>DIPARTIMENTO DELLE ARTI</td>\n",
       "      <td>0.214379</td>\n",
       "    </tr>\n",
       "    <tr>\n",
       "      <th>6</th>\n",
       "      <td>VITALI, FABIO</td>\n",
       "      <td>DIPARTIMENTO DI INFORMATICA - SCIENZA E INGEGN...</td>\n",
       "      <td>0.212987</td>\n",
       "    </tr>\n",
       "    <tr>\n",
       "      <th>7</th>\n",
       "      <td>DEGLI ESPOSTI, MIRKO</td>\n",
       "      <td>DIPARTIMENTO DI FISICA E ASTRONOMIA \"AUGUSTO R...</td>\n",
       "      <td>0.212527</td>\n",
       "    </tr>\n",
       "    <tr>\n",
       "      <th>8</th>\n",
       "      <td>BONONI, LUCIANO</td>\n",
       "      <td>DIPARTIMENTO DI INFORMATICA - SCIENZA E INGEGN...</td>\n",
       "      <td>0.210797</td>\n",
       "    </tr>\n",
       "    <tr>\n",
       "      <th>9</th>\n",
       "      <td>ASPERTI, ANDREA</td>\n",
       "      <td>DIPARTIMENTO DI INFORMATICA - SCIENZA E INGEGN...</td>\n",
       "      <td>0.209898</td>\n",
       "    </tr>\n",
       "  </tbody>\n",
       "</table>\n",
       "</div>"
      ],
      "text/plain": [
       "                   Name                                        Affiliation  \\\n",
       "0    CONDELLO, FEDERICO  DIPARTIMENTO DI FILOLOGIA CLASSICA E ITALIANIS...   \n",
       "1       MARTINI, SIMONE  DIPARTIMENTO DI INFORMATICA - SCIENZA E INGEGN...   \n",
       "2     TOMASI, FRANCESCA  DIPARTIMENTO DI FILOLOGIA CLASSICA E ITALIANIS...   \n",
       "3       ROCCETTI, MARCO  DIPARTIMENTO DI INFORMATICA - SCIENZA E INGEGN...   \n",
       "4     BARTOLINI, ILARIA  DIPARTIMENTO DI INFORMATICA - SCIENZA E INGEGN...   \n",
       "5       MARFIA, GUSTAVO                            DIPARTIMENTO DELLE ARTI   \n",
       "6         VITALI, FABIO  DIPARTIMENTO DI INFORMATICA - SCIENZA E INGEGN...   \n",
       "7  DEGLI ESPOSTI, MIRKO  DIPARTIMENTO DI FISICA E ASTRONOMIA \"AUGUSTO R...   \n",
       "8       BONONI, LUCIANO  DIPARTIMENTO DI INFORMATICA - SCIENZA E INGEGN...   \n",
       "9       ASPERTI, ANDREA  DIPARTIMENTO DI INFORMATICA - SCIENZA E INGEGN...   \n",
       "\n",
       "   WeightedClosenessCentrality  \n",
       "0                     0.223332  \n",
       "1                     0.222826  \n",
       "2                     0.221622  \n",
       "3                     0.220529  \n",
       "4                     0.218764  \n",
       "5                     0.214379  \n",
       "6                     0.212987  \n",
       "7                     0.212527  \n",
       "8                     0.210797  \n",
       "9                     0.209898  "
      ]
     },
     "execution_count": 53,
     "metadata": {},
     "output_type": "execute_result"
    }
   ],
   "source": [
    "weighted_closeness_centrality = nx.closeness_centrality(G, distance=\"weight\")\n",
    "\n",
    "wcc_data = pd.DataFrame({\"Name\": list(weighted_closeness_centrality.keys()),\n",
    "                        \"Affiliation\": [node_attributes[node] for node in weighted_closeness_centrality.keys()],\n",
    "                        \"WeightedClosenessCentrality\": list(weighted_closeness_centrality.values())\n",
    "                        }).sort_values(by=\"WeightedClosenessCentrality\", ascending=False).reset_index(drop=True)\n",
    "\n",
    "wcc_data.head(10)"
   ]
  },
  {
   "cell_type": "markdown",
   "metadata": {},
   "source": [
    "### Eigenvector centrality"
   ]
  },
  {
   "cell_type": "markdown",
   "metadata": {},
   "source": [
    "Weighted eigenvector centrality assesses the importance of a node in a network, considering both the network topology and the weights of its connections.\n",
    "\n",
    "Why it Changes:\n",
    "Edge Weights Influence Strength:\n",
    "\n",
    "Nodes with strong connections (lower weights) contribute more to the eigenvector centrality of their neighbors. The weights influence the flow of influence through the network.\n",
    "\n",
    "Weighted Paths Matter:\n",
    "Paths with lower weights contribute more to the eigenvector centrality. If a node is connected to nodes with strong connections, its centrality increases.\n",
    "Higher Eigenvector Centrality for Some Nodes:\n",
    "\n",
    "Implications:\n",
    "Nodes with higher weighted eigenvector centrality are influential in the network, considering both the structure and weights of connections.\n",
    "These individuals play a significant role in information flow and network dynamics"
   ]
  },
  {
   "cell_type": "code",
   "execution_count": 54,
   "metadata": {},
   "outputs": [
    {
     "data": {
      "text/html": [
       "<div>\n",
       "<style scoped>\n",
       "    .dataframe tbody tr th:only-of-type {\n",
       "        vertical-align: middle;\n",
       "    }\n",
       "\n",
       "    .dataframe tbody tr th {\n",
       "        vertical-align: top;\n",
       "    }\n",
       "\n",
       "    .dataframe thead th {\n",
       "        text-align: right;\n",
       "    }\n",
       "</style>\n",
       "<table border=\"1\" class=\"dataframe\">\n",
       "  <thead>\n",
       "    <tr style=\"text-align: right;\">\n",
       "      <th></th>\n",
       "      <th>Name</th>\n",
       "      <th>Affiliation</th>\n",
       "      <th>WeightedEigenvectorCentrality</th>\n",
       "    </tr>\n",
       "  </thead>\n",
       "  <tbody>\n",
       "    <tr>\n",
       "      <th>0</th>\n",
       "      <td>DI FELICE, MARCO</td>\n",
       "      <td>DIPARTIMENTO DI INFORMATICA - SCIENZA E INGEGN...</td>\n",
       "      <td>0.568878</td>\n",
       "    </tr>\n",
       "    <tr>\n",
       "      <th>1</th>\n",
       "      <td>BONONI, LUCIANO</td>\n",
       "      <td>DIPARTIMENTO DI INFORMATICA - SCIENZA E INGEGN...</td>\n",
       "      <td>0.562206</td>\n",
       "    </tr>\n",
       "    <tr>\n",
       "      <th>2</th>\n",
       "      <td>BEDOGNI, LUCA</td>\n",
       "      <td>AFORM - AREA FORMAZIONE E DOTTORATO</td>\n",
       "      <td>0.371572</td>\n",
       "    </tr>\n",
       "    <tr>\n",
       "      <th>3</th>\n",
       "      <td>TROTTA, ANGELO</td>\n",
       "      <td>DIPARTIMENTO DI INFORMATICA - SCIENZA E INGEGN...</td>\n",
       "      <td>0.256683</td>\n",
       "    </tr>\n",
       "    <tr>\n",
       "      <th>4</th>\n",
       "      <td>SALMON CINOTTI, TULLIO</td>\n",
       "      <td>CENTRO RICERCA SISTEMI ELETTRONICI INGEGN.INF....</td>\n",
       "      <td>0.219370</td>\n",
       "    </tr>\n",
       "    <tr>\n",
       "      <th>5</th>\n",
       "      <td>MONTORI, FEDERICO</td>\n",
       "      <td>DIPARTIMENTO DI INFORMATICA - SCIENZA E INGEGN...</td>\n",
       "      <td>0.175792</td>\n",
       "    </tr>\n",
       "    <tr>\n",
       "      <th>6</th>\n",
       "      <td>D'ELIA, ALFREDO</td>\n",
       "      <td>CENTRO RICERCA SISTEMI ELETTRONICI INGEGN.INF....</td>\n",
       "      <td>0.136345</td>\n",
       "    </tr>\n",
       "    <tr>\n",
       "      <th>7</th>\n",
       "      <td>SCIULLO, LUCA</td>\n",
       "      <td>DIPARTIMENTO DI INFORMATICA - SCIENZA E INGEGN...</td>\n",
       "      <td>0.104689</td>\n",
       "    </tr>\n",
       "    <tr>\n",
       "      <th>8</th>\n",
       "      <td>GIGLI, LORENZO</td>\n",
       "      <td>DIPARTIMENTO DI INFORMATICA - SCIENZA E INGEGN...</td>\n",
       "      <td>0.065988</td>\n",
       "    </tr>\n",
       "    <tr>\n",
       "      <th>9</th>\n",
       "      <td>BELLAVISTA, PAOLO</td>\n",
       "      <td>DIPARTIMENTO DI INFORMATICA - SCIENZA E INGEGN...</td>\n",
       "      <td>0.062306</td>\n",
       "    </tr>\n",
       "  </tbody>\n",
       "</table>\n",
       "</div>"
      ],
      "text/plain": [
       "                     Name                                        Affiliation  \\\n",
       "0        DI FELICE, MARCO  DIPARTIMENTO DI INFORMATICA - SCIENZA E INGEGN...   \n",
       "1         BONONI, LUCIANO  DIPARTIMENTO DI INFORMATICA - SCIENZA E INGEGN...   \n",
       "2           BEDOGNI, LUCA                AFORM - AREA FORMAZIONE E DOTTORATO   \n",
       "3          TROTTA, ANGELO  DIPARTIMENTO DI INFORMATICA - SCIENZA E INGEGN...   \n",
       "4  SALMON CINOTTI, TULLIO  CENTRO RICERCA SISTEMI ELETTRONICI INGEGN.INF....   \n",
       "5       MONTORI, FEDERICO  DIPARTIMENTO DI INFORMATICA - SCIENZA E INGEGN...   \n",
       "6         D'ELIA, ALFREDO  CENTRO RICERCA SISTEMI ELETTRONICI INGEGN.INF....   \n",
       "7           SCIULLO, LUCA  DIPARTIMENTO DI INFORMATICA - SCIENZA E INGEGN...   \n",
       "8          GIGLI, LORENZO  DIPARTIMENTO DI INFORMATICA - SCIENZA E INGEGN...   \n",
       "9       BELLAVISTA, PAOLO  DIPARTIMENTO DI INFORMATICA - SCIENZA E INGEGN...   \n",
       "\n",
       "   WeightedEigenvectorCentrality  \n",
       "0                       0.568878  \n",
       "1                       0.562206  \n",
       "2                       0.371572  \n",
       "3                       0.256683  \n",
       "4                       0.219370  \n",
       "5                       0.175792  \n",
       "6                       0.136345  \n",
       "7                       0.104689  \n",
       "8                       0.065988  \n",
       "9                       0.062306  "
      ]
     },
     "execution_count": 54,
     "metadata": {},
     "output_type": "execute_result"
    }
   ],
   "source": [
    "weighted_eigenvector_centrality = nx.eigenvector_centrality(G, weight=\"weight\")\n",
    "\n",
    "wec_data = pd.DataFrame({\"Name\": list(weighted_eigenvector_centrality.keys()),\n",
    "                        \"Affiliation\": [node_attributes[node] for node in weighted_eigenvector_centrality.keys()],\n",
    "                        \"WeightedEigenvectorCentrality\": list(weighted_eigenvector_centrality.values())\n",
    "                        }).sort_values(by=\"WeightedEigenvectorCentrality\", ascending=False).reset_index(drop=True)\n",
    "\n",
    "wec_data.head(10)"
   ]
  },
  {
   "cell_type": "markdown",
   "metadata": {},
   "source": [
    "---"
   ]
  },
  {
   "cell_type": "markdown",
   "metadata": {},
   "source": [
    "# Topological and Structural analysis"
   ]
  },
  {
   "cell_type": "markdown",
   "metadata": {},
   "source": [
    "### Small-worldness"
   ]
  },
  {
   "cell_type": "markdown",
   "metadata": {},
   "source": [
    "\n",
    "There are two main ways to quantify the small-worldness of a network:\n",
    "- Computing the small-world measure $\\sigma$ by comparing clustering and path length of a given network to an equivalent random network with same degree on average.\n",
    "- Computing the small-world measure $\\omega$ by comparing the clustering of a given network to an equivalent lattice network and its path length to an equivalent random network."
   ]
  },
  {
   "cell_type": "markdown",
   "metadata": {},
   "source": [
    "$\\sigma$ is defined as:\n",
    "\n",
    "$$\\sigma= \\dfrac{\\dfrac{C}{C_r}}{\\dfrac{L}{L_r}}$$\n",
    "\n",
    "Where $C$ is the clustering coefficient of our network and $C_r$ is the clusetering coefficient of an equivalent random graph, while $L$ and $L_r$ are the average shortest path values for our network and an equivalent random graph, respectively.\n",
    "\n",
    "A graph is commonly classified as small-world if $\\sigma \\gt 1$ $(C ≫ C_r$ $and$ $L ≈ L_r)$."
   ]
  },
  {
   "cell_type": "markdown",
   "metadata": {},
   "source": [
    "$\\omega$ is defined as:\n",
    "\n",
    "$$\\omega=\\dfrac{L_r}{L}-\\dfrac{C}{C_l}$$\n",
    "\n",
    "Where $C$ and $L$ are respectively the average clustering coefficient and average shortest path length of our network, while $L_r$ is the average shortest path length of an equivalent random graph and $C_l$ is the average clustering coefficient of an equivalent lattice graph.\n",
    "\n",
    "Negative values of $\\omega$ mean that our network is similar to a lattice, whereas positive values mean that it is more likely to be similar to a random graph. Values close to 0 mean that it has small-world characteristics."
   ]
  },
  {
   "cell_type": "markdown",
   "metadata": {},
   "source": [
    "### Computing the small-world coefficient $\\sigma$"
   ]
  },
  {
   "cell_type": "code",
   "execution_count": 55,
   "metadata": {},
   "outputs": [
    {
     "ename": "NetworkXError",
     "evalue": "Graph is not connected.",
     "output_type": "error",
     "traceback": [
      "\u001b[0;31m---------------------------------------------------------------------------\u001b[0m",
      "\u001b[0;31mNetworkXError\u001b[0m                             Traceback (most recent call last)",
      "Cell \u001b[0;32mIn[55], line 18\u001b[0m\n\u001b[1;32m     15\u001b[0m \u001b[38;5;28;01melse\u001b[39;00m:\n\u001b[1;32m     16\u001b[0m     L \u001b[38;5;241m=\u001b[39m L_list[\u001b[38;5;241m0\u001b[39m]\n\u001b[0;32m---> 18\u001b[0m L_random \u001b[38;5;241m=\u001b[39m \u001b[43mnx\u001b[49m\u001b[38;5;241;43m.\u001b[39;49m\u001b[43maverage_shortest_path_length\u001b[49m\u001b[43m(\u001b[49m\u001b[43mequivalent_random_graph\u001b[49m\u001b[43m)\u001b[49m\n\u001b[1;32m     20\u001b[0m \u001b[38;5;28mprint\u001b[39m(\u001b[38;5;124m\"\u001b[39m\u001b[38;5;124mC = \u001b[39m\u001b[38;5;124m\"\u001b[39m, C)\n\u001b[1;32m     21\u001b[0m \u001b[38;5;28mprint\u001b[39m(\u001b[38;5;124m\"\u001b[39m\u001b[38;5;124mCr = \u001b[39m\u001b[38;5;124m\"\u001b[39m, C_random)\n",
      "File \u001b[0;32m~/.local/lib/python3.11/site-packages/networkx/algorithms/shortest_paths/generic.py:416\u001b[0m, in \u001b[0;36maverage_shortest_path_length\u001b[0;34m(G, weight, method)\u001b[0m\n\u001b[1;32m    414\u001b[0m \u001b[38;5;66;03m# Shortest path length is undefined if the graph is not connected.\u001b[39;00m\n\u001b[1;32m    415\u001b[0m \u001b[38;5;28;01mif\u001b[39;00m \u001b[38;5;129;01mnot\u001b[39;00m G\u001b[38;5;241m.\u001b[39mis_directed() \u001b[38;5;129;01mand\u001b[39;00m \u001b[38;5;129;01mnot\u001b[39;00m nx\u001b[38;5;241m.\u001b[39mis_connected(G):\n\u001b[0;32m--> 416\u001b[0m     \u001b[38;5;28;01mraise\u001b[39;00m nx\u001b[38;5;241m.\u001b[39mNetworkXError(\u001b[38;5;124m\"\u001b[39m\u001b[38;5;124mGraph is not connected.\u001b[39m\u001b[38;5;124m\"\u001b[39m)\n\u001b[1;32m    418\u001b[0m \u001b[38;5;66;03m# Compute all-pairs shortest paths.\u001b[39;00m\n\u001b[1;32m    419\u001b[0m \u001b[38;5;28;01mdef\u001b[39;00m \u001b[38;5;21mpath_length\u001b[39m(v):\n",
      "\u001b[0;31mNetworkXError\u001b[0m: Graph is not connected."
     ]
    }
   ],
   "source": [
    "C = nx.average_clustering(G)\n",
    "\n",
    "equivalent_random_graph = nx.erdos_renyi_graph(G.number_of_nodes(), p=np.mean([d for _, d in G.degree()]) / (nx.number_of_nodes(G) - 1))\n",
    "C_random = nx.average_clustering(equivalent_random_graph)\n",
    "\n",
    "# Compute average L for each connected component of the network\n",
    "L_list = [nx.average_shortest_path_length(G.subgraph(n).copy()) for n in nx.connected_components(G)]\n",
    "\n",
    "if len(L_list) > 1:\n",
    "    computable_L_list = [L for L in L_list if L != 1.0] # remove the 0 values\n",
    "    if len(computable_L_list) == 1:\n",
    "        L = computable_L_list[0]\n",
    "    else:\n",
    "        L = st.mean(computable_L_list)\n",
    "else:\n",
    "    L = L_list[0]\n",
    "\n",
    "L_random = nx.average_shortest_path_length(equivalent_random_graph)\n",
    "\n",
    "print(\"C = \", C)\n",
    "print(\"Cr = \", C_random)\n",
    "print(\"L = \", L)\n",
    "print(\"Lr = \", L_random)\n",
    "\n",
    "sigma = ((C / C_random) / (L / L_random))\n",
    "print(\"Sigma = \", sigma)"
   ]
  },
  {
   "cell_type": "markdown",
   "metadata": {},
   "source": [
    "### Computing the small-world coefficient $\\omega$"
   ]
  },
  {
   "cell_type": "code",
   "execution_count": null,
   "metadata": {},
   "outputs": [
    {
     "name": "stdout",
     "output_type": "stream",
     "text": [
      "C =  0.7615676461291595\n",
      "Cl =  0.5\n",
      "L =  3.979608832599482\n",
      "Lr =  3.1594353468889658\n",
      "Omega =  -0.7292292879776869\n"
     ]
    }
   ],
   "source": [
    "random_lattice_graph = nx.lattice_reference(nx.watts_strogatz_graph(G.number_of_nodes(), k=4, p=0))\n",
    "omega = ((L_random / L) - (C / nx.average_clustering(random_lattice_graph)))\n",
    "\n",
    "print(\"C = \", C)\n",
    "print(\"Cl = \", nx.average_clustering(random_lattice_graph))\n",
    "print(\"L = \", L)\n",
    "print(\"Lr = \", L_random)\n",
    "\n",
    "print(\"Omega = \", omega)"
   ]
  },
  {
   "cell_type": "markdown",
   "metadata": {},
   "source": [
    "### Scale freedom"
   ]
  },
  {
   "cell_type": "code",
   "execution_count": null,
   "metadata": {},
   "outputs": [
    {
     "data": {
      "text/plain": [
       "<seaborn.axisgrid.FacetGrid at 0x7f19aea67710>"
      ]
     },
     "execution_count": 5,
     "metadata": {},
     "output_type": "execute_result"
    },
    {
     "data": {
      "image/png": "[encoded data removed]",
      "text/plain": [
       "<Figure size 840x600 with 1 Axes>"
      ]
     },
     "metadata": {},
     "output_type": "display_data"
    }
   ],
   "source": [
    "degree_distribution_list = [G.degree(node) for node in G]\n",
    "dist_df = pd.DataFrame({'degree': degree_distribution_list})\n",
    "\n",
    "sns.displot(dist_df['degree'], height=6, aspect=7/5, log_scale=(True, True)).set(\n",
    "    xlabel='Degree',\n",
    "    ylabel='Frequency',\n",
    "    title=f'Degree distribution of the network'\n",
    ")"
   ]
  },
  {
   "cell_type": "markdown",
   "metadata": {},
   "source": [
    "To be sure that our conclusions are not based on biased visual interpretations, we measure how close our distribution is to a power law distribution by compute the scaling coefficient $\\alpha$ as follows:\n",
    "\n",
    "$$\\alpha=1+n(\\sum_i ln \\frac{d_i}{d_{min}-1/2})^{-1}$$\n",
    "\n",
    "Where:\n",
    "- $n$ is the number of nodes in our network.\n",
    "- $d_i$ is the degree of the node $i$.\n",
    "- $d_{min}$ is the minimum degree found in our graph.\n",
    "\n",
    "Finding an $\\alpha$ value such that $2 \\le \\alpha \\le 3$ means that our network is a scale free newtork."
   ]
  },
  {
   "cell_type": "code",
   "execution_count": 56,
   "metadata": {},
   "outputs": [
    {
     "name": "stdout",
     "output_type": "stream",
     "text": [
      "Alpha = 1.425250169228711\n"
     ]
    }
   ],
   "source": [
    "degree_distribution_list = [G.degree(node) for node in G]\n",
    "\n",
    "n = len(degree_distribution_list)\n",
    "sum_val = sum(np.log(degree / (min(degree_distribution_list) - 1/2)) for degree in degree_distribution_list)\n",
    "\n",
    "alpha = 1 + n * sum_val ** -1\n",
    "print(\"Alpha =\", alpha)"
   ]
  },
  {
   "cell_type": "markdown",
   "metadata": {},
   "source": [
    "\n",
    "---"
   ]
  },
  {
   "cell_type": "markdown",
   "metadata": {},
   "source": [
    "# Other measures"
   ]
  },
  {
   "cell_type": "markdown",
   "metadata": {},
   "source": [
    "### Clustering"
   ]
  },
  {
   "cell_type": "code",
   "execution_count": 57,
   "metadata": {},
   "outputs": [
    {
     "data": {
      "text/html": [
       "<div>\n",
       "<style scoped>\n",
       "    .dataframe tbody tr th:only-of-type {\n",
       "        vertical-align: middle;\n",
       "    }\n",
       "\n",
       "    .dataframe tbody tr th {\n",
       "        vertical-align: top;\n",
       "    }\n",
       "\n",
       "    .dataframe thead th {\n",
       "        text-align: right;\n",
       "    }\n",
       "</style>\n",
       "<table border=\"1\" class=\"dataframe\">\n",
       "  <thead>\n",
       "    <tr style=\"text-align: right;\">\n",
       "      <th></th>\n",
       "      <th>Clustering</th>\n",
       "    </tr>\n",
       "  </thead>\n",
       "  <tbody>\n",
       "    <tr>\n",
       "      <th>MONTALI, MARCO</th>\n",
       "      <td>0.108872</td>\n",
       "    </tr>\n",
       "    <tr>\n",
       "      <th>LUCCHI, ROBERTO</th>\n",
       "      <td>0.091796</td>\n",
       "    </tr>\n",
       "    <tr>\n",
       "      <th>MONTECCHIARI, LEONARDO</th>\n",
       "      <td>0.071099</td>\n",
       "    </tr>\n",
       "    <tr>\n",
       "      <th>BRACUTO, MICHELE</th>\n",
       "      <td>0.064661</td>\n",
       "    </tr>\n",
       "    <tr>\n",
       "      <th>ROUHI, RAHIMEH</th>\n",
       "      <td>0.064291</td>\n",
       "    </tr>\n",
       "    <tr>\n",
       "      <th>...</th>\n",
       "      <td>...</td>\n",
       "    </tr>\n",
       "    <tr>\n",
       "      <th>GABBRIELLINI, SIMONE</th>\n",
       "      <td>0.000000</td>\n",
       "    </tr>\n",
       "    <tr>\n",
       "      <th>YAGLIKCI, NEFISE GIZEM</th>\n",
       "      <td>0.000000</td>\n",
       "    </tr>\n",
       "    <tr>\n",
       "      <th>LINARES ZAILA, YISLEIDY</th>\n",
       "      <td>0.000000</td>\n",
       "    </tr>\n",
       "    <tr>\n",
       "      <th>BURATTI, GIACOMO</th>\n",
       "      <td>0.000000</td>\n",
       "    </tr>\n",
       "    <tr>\n",
       "      <th>GABOARDI, MARCO GIUSEPPE</th>\n",
       "      <td>0.000000</td>\n",
       "    </tr>\n",
       "  </tbody>\n",
       "</table>\n",
       "<p>493 rows × 1 columns</p>\n",
       "</div>"
      ],
      "text/plain": [
       "                          Clustering\n",
       "MONTALI, MARCO              0.108872\n",
       "LUCCHI, ROBERTO             0.091796\n",
       "MONTECCHIARI, LEONARDO      0.071099\n",
       "BRACUTO, MICHELE            0.064661\n",
       "ROUHI, RAHIMEH              0.064291\n",
       "...                              ...\n",
       "GABBRIELLINI, SIMONE        0.000000\n",
       "YAGLIKCI, NEFISE GIZEM      0.000000\n",
       "LINARES ZAILA, YISLEIDY     0.000000\n",
       "BURATTI, GIACOMO            0.000000\n",
       "GABOARDI, MARCO GIUSEPPE    0.000000\n",
       "\n",
       "[493 rows x 1 columns]"
      ]
     },
     "execution_count": 57,
     "metadata": {},
     "output_type": "execute_result"
    }
   ],
   "source": [
    "clustering = nx.clustering(G, weight=\"weight\")\n",
    "clustering_data = pd.DataFrame.from_dict(clustering, \n",
    "                                columns=[\"Clustering\"],\n",
    "                                orient=\"index\")\n",
    "clustering_data.sort_values(by=[\"Clustering\"], ascending=False)"
   ]
  },
  {
   "cell_type": "markdown",
   "metadata": {},
   "source": [
    "The weighted clustering coefficient measures the tendency of nodes in a network to form clusters or groups, taking into account the strengths of connections.\n",
    "\n",
    "Interpretation:\n",
    "The table presents nodes with their corresponding weighted clustering coefficients, indicating the level of clustering around each node.\n",
    "\n",
    "Implications:\n",
    "Nodes with higher weighted clustering coefficients have a greater tendency to form tightly-knit clusters in the network.\n",
    "These individuals may be central in cohesive groups, indicating potential community structures.\n",
    "\n",
    "Considerations:\n",
    "A higher weighted clustering coefficient suggests stronger connections within local neighborhoods of nodes."
   ]
  },
  {
   "cell_type": "code",
   "execution_count": 58,
   "metadata": {},
   "outputs": [
    {
     "name": "stdout",
     "output_type": "stream",
     "text": [
      "Cohesion:  0.014078158686333917\n"
     ]
    }
   ],
   "source": [
    "avg_cohesion = nx.average_clustering(G, weight=\"weight\")\n",
    "print(\"Cohesion: \", avg_cohesion)"
   ]
  },
  {
   "cell_type": "markdown",
   "metadata": {},
   "source": [
    "The result avg_cohesion = 0.014078158686333917 represents the average clustering coefficient of the graph G when considering edge weights (weight=\"weight\"). Let's break down the interpretation:\n",
    "\n",
    "Clustering Coefficient:\n",
    "The clustering coefficient measures the tendency of nodes in a graph to form clusters or groups.\n",
    "\n",
    "Average Clustering Coefficient:\n",
    "The average clustering coefficient is the average of the local clustering coefficients across all nodes in the graph.\n",
    "\n",
    "It ranges from 0 to 1, where:\n",
    "0 indicates no clustering (nodes are not connected in clusters).\n",
    "1 indicates maximum clustering (all neighbors of a node are connected to each other).\n",
    "\n",
    "Interpretation:\n",
    "In your case, the average clustering coefficient is approximately 0.0141.\n",
    "This suggests a relatively low level of clustering in the graph when considering edge weights.\n",
    "Nodes in the graph do not form dense local clusters, indicating a more sparse and interconnected network.\n",
    "\n",
    "Implications:\n",
    "Sparse Connectivity: The low average clustering coefficient might indicate that the graph has a sparse or decentralized structure when considering edge weights.\n",
    "\n",
    "Potential Isolation: Nodes may have connections, but these connections do not necessarily form tight-knit groups or communities.\n",
    "\n",
    "Considerations:\n",
    "The interpretation may vary based on the nature and purpose of your network.\n",
    "\n",
    "Depending on your specific domain or application, a low average clustering coefficient might be expected or might raise further questions about the structure of the graph."
   ]
  },
  {
   "cell_type": "code",
   "execution_count": 59,
   "metadata": {},
   "outputs": [
    {
     "name": "stdout",
     "output_type": "stream",
     "text": [
      "Connectedness:  1\n"
     ]
    }
   ],
   "source": [
    "num_connected_components = nx.number_connected_components(G)\n",
    "print(\"Connectedness: \", num_connected_components)"
   ]
  },
  {
   "cell_type": "markdown",
   "metadata": {},
   "source": [
    "Interpretation:\n",
    "The network consists of 1 connected component.\n",
    "\n",
    "Observations:\n",
    "A single connected component implies that all nodes in the network are connected, forming a unified structure.\n",
    "\n",
    "Implications:\n",
    "Information and influence can easily flow between any pair of nodes within the network.\n",
    "The network is highly cohesive and lacks isolated clusters of nodes.\n",
    "\n",
    "Considerations:\n",
    "The connectedness of the network may impact information diffusion, collaboration, and overall communication dynamics.\n",
    "Understanding the connected components helps in assessing the global structure of the network."
   ]
  },
  {
   "cell_type": "code",
   "execution_count": 60,
   "metadata": {},
   "outputs": [
    {
     "name": "stdout",
     "output_type": "stream",
     "text": [
      "Compactness:  0.28515237325619924\n"
     ]
    }
   ],
   "source": [
    "def calc_compactness(graph):\n",
    "    shortest_path_lengths = dict(nx.all_pairs_shortest_path_length(graph))\n",
    "\n",
    "    total_compactness = 0\n",
    "    total_pairs = 0\n",
    "\n",
    "    for source, lengths in shortest_path_lengths.items():\n",
    "        for target, distance in lengths.items():\n",
    "            if source != target:\n",
    "                total_compactness += 1 / distance\n",
    "                total_pairs += 1\n",
    "\n",
    "    if total_pairs == 0:\n",
    "        return 0  # Avoid division by zero\n",
    "\n",
    "    return total_compactness / total_pairs\n",
    "\n",
    "compactness = calc_compactness(G)\n",
    "print(\"Compactness: \", compactness)"
   ]
  },
  {
   "cell_type": "markdown",
   "metadata": {},
   "source": [
    "Compactness in a network refers to the efficiency of information flow, indicating how closely connected nodes are to each other.\n",
    "\n",
    "Interpretation:\n",
    "The compactness of the network is approximately 0.285.\n",
    "\n",
    "Observations:\n",
    "A compactness value closer to 1 suggests a highly interconnected network with efficient information flow.\n",
    "A lower compactness value, like the one observed, indicates a network with some level of separation between nodes.\n",
    "\n",
    "Implications:\n",
    "The network may have distinct clusters or communities that are not fully connected.\n",
    "Information diffusion may encounter some barriers, affecting the overall efficiency of communication.\n",
    "\n",
    "Considerations:\n",
    "Assessing compactness helps in understanding how well the network facilitates the exchange of information.\n",
    "Depending on the network's purpose, a certain level of separation between nodes may be expected or could be an area for improvement."
   ]
  },
  {
   "cell_type": "code",
   "execution_count": 61,
   "metadata": {},
   "outputs": [
    {
     "name": "stdout",
     "output_type": "stream",
     "text": [
      "Transitivity:  0.4332347525249707\n"
     ]
    }
   ],
   "source": [
    "transitivity = nx.transitivity(G)\n",
    "print(\"Transitivity: \", transitivity)"
   ]
  },
  {
   "cell_type": "markdown",
   "metadata": {},
   "source": [
    "Network Transitivity Analysis:\n",
    "Transitivity in a network measures the likelihood that two nodes connected to the same node are also connected to each other. It provides insights into the clustering tendency of nodes.\n",
    "\n",
    "Interpretation:\n",
    "The transitivity of the network is approximately 0.433.\n",
    "\n",
    "Observations:\n",
    "Transitivity values range from 0 to 1.\n",
    "A higher transitivity indicates a higher probability of nodes forming clusters.\n",
    "\n",
    "Implications:\n",
    "The network exhibits a moderate level of clustering.\n",
    "Nodes in the network are somewhat likely to form local clusters or groups.\n",
    "\n",
    "Considerations:\n",
    "A higher transitivity might suggest the presence of well-defined communities.\n",
    "The interpretation may vary based on the specific goals and characteristics of the network."
   ]
  },
  {
   "cell_type": "code",
   "execution_count": 62,
   "metadata": {},
   "outputs": [
    {
     "data": {
      "text/html": [
       "<div>\n",
       "<style scoped>\n",
       "    .dataframe tbody tr th:only-of-type {\n",
       "        vertical-align: middle;\n",
       "    }\n",
       "\n",
       "    .dataframe tbody tr th {\n",
       "        vertical-align: top;\n",
       "    }\n",
       "\n",
       "    .dataframe thead th {\n",
       "        text-align: right;\n",
       "    }\n",
       "</style>\n",
       "<table border=\"1\" class=\"dataframe\">\n",
       "  <thead>\n",
       "    <tr style=\"text-align: right;\">\n",
       "      <th></th>\n",
       "      <th>KCore</th>\n",
       "    </tr>\n",
       "  </thead>\n",
       "  <tbody>\n",
       "    <tr>\n",
       "      <th>CORRADI, ANTONIO</th>\n",
       "      <td>22</td>\n",
       "    </tr>\n",
       "    <tr>\n",
       "      <th>LONGO, DANILA</th>\n",
       "      <td>22</td>\n",
       "    </tr>\n",
       "    <tr>\n",
       "      <th>TARCHI, DANIELE</th>\n",
       "      <td>22</td>\n",
       "    </tr>\n",
       "    <tr>\n",
       "      <th>NAPOLITANO, FABIO</th>\n",
       "      <td>22</td>\n",
       "    </tr>\n",
       "    <tr>\n",
       "      <th>NUCCI, CARLO ALBERTO</th>\n",
       "      <td>22</td>\n",
       "    </tr>\n",
       "    <tr>\n",
       "      <th>...</th>\n",
       "      <td>...</td>\n",
       "    </tr>\n",
       "    <tr>\n",
       "      <th>CONCER, NICOLA</th>\n",
       "      <td>1</td>\n",
       "    </tr>\n",
       "    <tr>\n",
       "      <th>DEGLI ESPOSTI, PIERGIORGIO</th>\n",
       "      <td>1</td>\n",
       "    </tr>\n",
       "    <tr>\n",
       "      <th>GUIDOTTI, LAURA</th>\n",
       "      <td>1</td>\n",
       "    </tr>\n",
       "    <tr>\n",
       "      <th>SANDRI, GIORGIO</th>\n",
       "      <td>1</td>\n",
       "    </tr>\n",
       "    <tr>\n",
       "      <th>GABOARDI, MARCO GIUSEPPE</th>\n",
       "      <td>1</td>\n",
       "    </tr>\n",
       "  </tbody>\n",
       "</table>\n",
       "<p>493 rows × 1 columns</p>\n",
       "</div>"
      ],
      "text/plain": [
       "                            KCore\n",
       "CORRADI, ANTONIO               22\n",
       "LONGO, DANILA                  22\n",
       "TARCHI, DANIELE                22\n",
       "NAPOLITANO, FABIO              22\n",
       "NUCCI, CARLO ALBERTO           22\n",
       "...                           ...\n",
       "CONCER, NICOLA                  1\n",
       "DEGLI ESPOSTI, PIERGIORGIO      1\n",
       "GUIDOTTI, LAURA                 1\n",
       "SANDRI, GIORGIO                 1\n",
       "GABOARDI, MARCO GIUSEPPE        1\n",
       "\n",
       "[493 rows x 1 columns]"
      ]
     },
     "execution_count": 62,
     "metadata": {},
     "output_type": "execute_result"
    }
   ],
   "source": [
    "core_number = nx.core_number(G)\n",
    "k_data = pd.DataFrame.from_dict(core_number,\n",
    "                                    columns=[\"KCore\"],\n",
    "                                    orient=\"index\")\n",
    "k_data.sort_values(by=[\"KCore\"], ascending=False)"
   ]
  },
  {
   "cell_type": "markdown",
   "metadata": {},
   "source": [
    "K-core decomposition is a graph analysis method that identifies the core of a network by iteratively removing nodes with the lowest degrees.\n",
    "\n",
    "Interpretation:\n",
    "The K-Core decomposition reveals core numbers for each node, representing the level of connectedness within the network.\n",
    "\n",
    "Observations:\n",
    "Nodes in the network are assigned a K-Core value, where higher values indicate a stronger level of connectivity within the core structure.\n",
    "\n",
    "Implications:\n",
    "Nodes with higher core numbers play a more central role in maintaining the overall connectivity of the network.\n",
    "The network's core structure is essential for understanding its robustness and resilience.\n",
    "\n",
    "Considerations:\n",
    "K-core decomposition helps identify the backbone of the network.\n",
    "Core numbers can provide insights into the hierarchical organization of nodes.\n",
    "\n",
    "Note:\n",
    "The K-core decomposition results in core numbers ranging from 1 to 22. Higher core numbers indicate nodes with increased connectivity within the core structure, highlighting their importance in maintaining network integrity"
   ]
  },
  {
   "cell_type": "code",
   "execution_count": 63,
   "metadata": {},
   "outputs": [
    {
     "name": "stdout",
     "output_type": "stream",
     "text": [
      "Modularity: 0.7668746704028047\n"
     ]
    },
    {
     "data": {
      "text/html": [
       "<div>\n",
       "<style scoped>\n",
       "    .dataframe tbody tr th:only-of-type {\n",
       "        vertical-align: middle;\n",
       "    }\n",
       "\n",
       "    .dataframe tbody tr th {\n",
       "        vertical-align: top;\n",
       "    }\n",
       "\n",
       "    .dataframe thead th {\n",
       "        text-align: right;\n",
       "    }\n",
       "</style>\n",
       "<table border=\"1\" class=\"dataframe\">\n",
       "  <thead>\n",
       "    <tr style=\"text-align: right;\">\n",
       "      <th></th>\n",
       "      <th>Communities</th>\n",
       "    </tr>\n",
       "  </thead>\n",
       "  <tbody>\n",
       "    <tr>\n",
       "      <th>KIZILTAN, ZEYNEP</th>\n",
       "      <td>11</td>\n",
       "    </tr>\n",
       "    <tr>\n",
       "      <th>NETTI, ALESSIO</th>\n",
       "      <td>11</td>\n",
       "    </tr>\n",
       "    <tr>\n",
       "      <th>BALLIU, ALKIDA</th>\n",
       "      <td>11</td>\n",
       "    </tr>\n",
       "    <tr>\n",
       "      <th>MARZOLLA, MORENO</th>\n",
       "      <td>11</td>\n",
       "    </tr>\n",
       "    <tr>\n",
       "      <th>BORGHESI, ANDREA</th>\n",
       "      <td>11</td>\n",
       "    </tr>\n",
       "    <tr>\n",
       "      <th>...</th>\n",
       "      <td>...</td>\n",
       "    </tr>\n",
       "    <tr>\n",
       "      <th>SOLMI, RICCARDO</th>\n",
       "      <td>0</td>\n",
       "    </tr>\n",
       "    <tr>\n",
       "      <th>BASILE, VALERIO</th>\n",
       "      <td>0</td>\n",
       "    </tr>\n",
       "    <tr>\n",
       "      <th>SAPIENZA, SALVATORE</th>\n",
       "      <td>0</td>\n",
       "    </tr>\n",
       "    <tr>\n",
       "      <th>LODI, GIORGIA</th>\n",
       "      <td>0</td>\n",
       "    </tr>\n",
       "    <tr>\n",
       "      <th>MARINELLI, PAOLO</th>\n",
       "      <td>0</td>\n",
       "    </tr>\n",
       "  </tbody>\n",
       "</table>\n",
       "<p>493 rows × 1 columns</p>\n",
       "</div>"
      ],
      "text/plain": [
       "                     Communities\n",
       "KIZILTAN, ZEYNEP              11\n",
       "NETTI, ALESSIO                11\n",
       "BALLIU, ALKIDA                11\n",
       "MARZOLLA, MORENO              11\n",
       "BORGHESI, ANDREA              11\n",
       "...                          ...\n",
       "SOLMI, RICCARDO                0\n",
       "BASILE, VALERIO                0\n",
       "SAPIENZA, SALVATORE            0\n",
       "LODI, GIORGIA                  0\n",
       "MARINELLI, PAOLO               0\n",
       "\n",
       "[493 rows x 1 columns]"
      ]
     },
     "execution_count": 63,
     "metadata": {},
     "output_type": "execute_result"
    }
   ],
   "source": [
    "communities = nx.algorithms.community.greedy_modularity_communities(G, weight=\"weight\")\n",
    "community_mapping = {}\n",
    "for i, community in enumerate(communities):\n",
    "    for node in community:\n",
    "        community_mapping[node] = i\n",
    "\n",
    "modularity_value = nx.algorithms.community.modularity(G, list(communities), weight=\"weight\")\n",
    "\n",
    "print(\"Modularity:\", modularity_value)\n",
    "\n",
    "c_data = pd.DataFrame.from_dict(community_mapping,\n",
    "                                columns=[\"Communities\"],\n",
    "                                orient=\"index\")\n",
    "c_data.sort_values(by=[\"Communities\"], ascending=False)"
   ]
  },
  {
   "cell_type": "markdown",
   "metadata": {},
   "source": [
    "Greedy Modularity Communities:\n",
    "\n",
    "Community Assignment:\n",
    "The algorithm assigns nodes to communities based on the concept of modularity, aiming to maximize the quality of community structure.\n",
    "Each node is placed in the community that results in the highest increase in modularity.\n",
    "\n",
    "Community Mapping:\n",
    "The result you provided is a mapping of nodes to their assigned communities, represented by numeric labels (e.g., 14, 13, 12).\n",
    "Each node is associated with the community to which it belongs.\n",
    "\n",
    "Interpreting the Results:\n",
    "\n",
    "Community Labels: Nodes with the same label (e.g., 11) belong to the same community.\n",
    "\n",
    "Community Sizes: Some communities might have more members than others. For example, nodes labeled 0 may represent smaller or less cohesive communities.\n",
    "\n",
    "Modularity and Weighted Graphs:\n",
    "\n",
    "Modularity Definition: Modularity measures the quality of a network's division into communities. Higher modularity values indicate a better community structure.\n",
    "\n",
    "Weighted Graphs: When the graph is weighted, the strength of connections between nodes is considered. Weighted modularity takes into account both the presence and strength of edges.\n",
    "\n",
    "Why Weight Changes the Result:\n",
    "\n",
    "Edge Strength Influence: In a weighted graph, the strength of connections can significantly impact community detection.\n",
    "\n",
    "Community Formation: Nodes may be more likely to be grouped together if they share strong weighted connections.\n",
    "\n",
    "Optimization Objective: The algorithm aims to optimize the modularity score by adjusting community assignments. Weighted edges contribute to this optimization differently than unweighted edges.\n",
    "\n",
    "Greedy Modularity Algorithm:\n",
    "\n",
    "Basic Idea: Greedy Modularity algorithms iteratively add or remove nodes from communities to maximize the modularity score.\n",
    "\n",
    "Steps:\n",
    "\n",
    "Start with each node in its own community.\n",
    "Greedily merge or split communities to maximize the modularity score.\n",
    "Repeat until modularity cannot be further improved.\n",
    "Considerations:\n",
    "\n",
    "The choice of community detection algorithm depends on the specific characteristics and goals of your network.\n",
    "\n",
    "The interpretation of community assignments may be context-dependent, and the results should be analyzed in conjunction with domain knowledge."
   ]
  },
  {
   "cell_type": "code",
   "execution_count": 64,
   "metadata": {},
   "outputs": [
    {
     "name": "stdout",
     "output_type": "stream",
     "text": [
      "Homophily: 0.33466733366683343\n"
     ]
    }
   ],
   "source": [
    "def homophily(G):\n",
    "    num_same_ties = 0\n",
    "    num_diff_ties = 0\n",
    "    for n1, n2 in G.edges():\n",
    "        if G.nodes[n1]['affiliation'] == G.nodes[n2]['affiliation']:\n",
    "            num_same_ties += 1\n",
    "        else:\n",
    "            num_diff_ties += 1\n",
    "    return (num_same_ties / (num_same_ties + num_diff_ties))\n",
    "print(\"Homophily:\", homophily(G))"
   ]
  },
  {
   "cell_type": "markdown",
   "metadata": {},
   "source": [
    "Homophily is a measure that assesses the tendency of nodes in a network to connect with others that share similar attributes.\n",
    "\n",
    "Interpretation:\n",
    "The calculated homophily coefficient of approximately 0.3347 suggests a moderate level of homophily in the network.\n",
    "\n",
    "Observations:\n",
    "The homophily coefficient represents the proportion of edges connecting nodes with similar affiliations compared to all edges in the network.\n",
    "\n",
    "Implications:\n",
    "A homophily coefficient greater than 0.5 would indicate a high tendency for nodes to connect with others of the same affiliation.\n",
    "A coefficient around 0.3347 suggests a moderate, yet discernible, level of homophily.\n",
    "\n",
    "Considerations:\n",
    "Homophily coefficients close to 0 indicate a lack of preference for connections between nodes with similar attributes.\n",
    "Understanding homophily helps in characterizing the social or organizational structure of the network.\n",
    "\n",
    "Note:\n",
    "The homophily coefficient of 0.3347 implies that nodes in the network are moderately inclined to form connections with others who share the same affiliation."
   ]
  }
 ],
 "metadata": {
  "kernelspec": {
   "display_name": "Python 3",
   "language": "python",
   "name": "python3"
  },
  "language_info": {
   "codemirror_mode": {
    "name": "ipython",
    "version": 3
   },
   "file_extension": ".py",
   "mimetype": "text/x-python",
   "name": "python",
   "nbconvert_exporter": "python",
   "pygments_lexer": "ipython3",
   "version": "3.11.6"
  }
 },
 "nbformat": 4,
 "nbformat_minor": 2
}
